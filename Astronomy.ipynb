{
 "cells": [
  {
   "cell_type": "markdown",
   "metadata": {},
   "source": [
    "Importing Librarires"
   ]
  },
  {
   "cell_type": "code",
   "execution_count": 1,
   "metadata": {},
   "outputs": [
    {
     "name": "stdout",
     "output_type": "stream",
     "text": [
      "Requirement already satisfied: seaborn in c:\\users\\chand\\appdata\\local\\packages\\pythonsoftwarefoundation.python.3.11_qbz5n2kfra8p0\\localcache\\local-packages\\python311\\site-packages (0.13.2)\n",
      "Requirement already satisfied: numpy!=1.24.0,>=1.20 in c:\\users\\chand\\appdata\\local\\packages\\pythonsoftwarefoundation.python.3.11_qbz5n2kfra8p0\\localcache\\local-packages\\python311\\site-packages (from seaborn) (1.25.2)\n",
      "Requirement already satisfied: pandas>=1.2 in c:\\users\\chand\\appdata\\local\\packages\\pythonsoftwarefoundation.python.3.11_qbz5n2kfra8p0\\localcache\\local-packages\\python311\\site-packages (from seaborn) (2.2.2)\n",
      "Requirement already satisfied: matplotlib!=3.6.1,>=3.4 in c:\\users\\chand\\appdata\\local\\packages\\pythonsoftwarefoundation.python.3.11_qbz5n2kfra8p0\\localcache\\local-packages\\python311\\site-packages (from seaborn) (3.7.2)\n",
      "Requirement already satisfied: contourpy>=1.0.1 in c:\\users\\chand\\appdata\\local\\packages\\pythonsoftwarefoundation.python.3.11_qbz5n2kfra8p0\\localcache\\local-packages\\python311\\site-packages (from matplotlib!=3.6.1,>=3.4->seaborn) (1.1.0)\n",
      "Requirement already satisfied: cycler>=0.10 in c:\\users\\chand\\appdata\\local\\packages\\pythonsoftwarefoundation.python.3.11_qbz5n2kfra8p0\\localcache\\local-packages\\python311\\site-packages (from matplotlib!=3.6.1,>=3.4->seaborn) (0.11.0)\n",
      "Requirement already satisfied: fonttools>=4.22.0 in c:\\users\\chand\\appdata\\local\\packages\\pythonsoftwarefoundation.python.3.11_qbz5n2kfra8p0\\localcache\\local-packages\\python311\\site-packages (from matplotlib!=3.6.1,>=3.4->seaborn) (4.42.1)\n",
      "Requirement already satisfied: kiwisolver>=1.0.1 in c:\\users\\chand\\appdata\\local\\packages\\pythonsoftwarefoundation.python.3.11_qbz5n2kfra8p0\\localcache\\local-packages\\python311\\site-packages (from matplotlib!=3.6.1,>=3.4->seaborn) (1.4.5)\n",
      "Requirement already satisfied: packaging>=20.0 in c:\\users\\chand\\appdata\\local\\packages\\pythonsoftwarefoundation.python.3.11_qbz5n2kfra8p0\\localcache\\local-packages\\python311\\site-packages (from matplotlib!=3.6.1,>=3.4->seaborn) (24.1)\n",
      "Requirement already satisfied: pillow>=6.2.0 in c:\\users\\chand\\appdata\\local\\packages\\pythonsoftwarefoundation.python.3.11_qbz5n2kfra8p0\\localcache\\local-packages\\python311\\site-packages (from matplotlib!=3.6.1,>=3.4->seaborn) (10.0.0)\n",
      "Requirement already satisfied: pyparsing<3.1,>=2.3.1 in c:\\users\\chand\\appdata\\local\\packages\\pythonsoftwarefoundation.python.3.11_qbz5n2kfra8p0\\localcache\\local-packages\\python311\\site-packages (from matplotlib!=3.6.1,>=3.4->seaborn) (3.0.9)\n",
      "Requirement already satisfied: python-dateutil>=2.7 in c:\\users\\chand\\appdata\\local\\packages\\pythonsoftwarefoundation.python.3.11_qbz5n2kfra8p0\\localcache\\local-packages\\python311\\site-packages (from matplotlib!=3.6.1,>=3.4->seaborn) (2.8.2)\n",
      "Requirement already satisfied: pytz>=2020.1 in c:\\users\\chand\\appdata\\local\\packages\\pythonsoftwarefoundation.python.3.11_qbz5n2kfra8p0\\localcache\\local-packages\\python311\\site-packages (from pandas>=1.2->seaborn) (2024.1)\n",
      "Requirement already satisfied: tzdata>=2022.7 in c:\\users\\chand\\appdata\\local\\packages\\pythonsoftwarefoundation.python.3.11_qbz5n2kfra8p0\\localcache\\local-packages\\python311\\site-packages (from pandas>=1.2->seaborn) (2024.1)\n",
      "Requirement already satisfied: six>=1.5 in c:\\users\\chand\\appdata\\local\\packages\\pythonsoftwarefoundation.python.3.11_qbz5n2kfra8p0\\localcache\\local-packages\\python311\\site-packages (from python-dateutil>=2.7->matplotlib!=3.6.1,>=3.4->seaborn) (1.16.0)\n",
      "Note: you may need to restart the kernel to use updated packages.\n"
     ]
    }
   ],
   "source": [
    "pip install seaborn"
   ]
  },
  {
   "cell_type": "code",
   "execution_count": 2,
   "metadata": {},
   "outputs": [],
   "source": [
    "import pandas as pd\n",
    "from sklearn.impute import KNNImputer\n",
    "from sklearn.preprocessing import StandardScaler, OneHotEncoder\n",
    "import numpy as np\n",
    "from sklearn.preprocessing import LabelEncoder\n",
    "import random\n",
    "import seaborn as sns\n",
    "import matplotlib.pyplot as plt\n",
    "from sklearn.model_selection import train_test_split\n",
    "from sklearn.ensemble import RandomForestClassifier, GradientBoostingClassifier, VotingClassifier\n",
    "from sklearn.metrics import accuracy_score\n",
    "from tqdm import tqdm\n",
    "import time\n",
    "import os"
   ]
  },
  {
   "cell_type": "markdown",
   "metadata": {},
   "source": [
    "Data Preprocessing"
   ]
  },
  {
   "cell_type": "code",
   "execution_count": 3,
   "metadata": {},
   "outputs": [],
   "source": [
    "# Loading the dataset\n",
    "data = pd.read_csv('dataset.csv')"
   ]
  },
  {
   "cell_type": "code",
   "execution_count": 4,
   "metadata": {},
   "outputs": [
    {
     "name": "stdout",
     "output_type": "stream",
     "text": [
      "<class 'pandas.core.frame.DataFrame'>\n",
      "RangeIndex: 4534 entries, 0 to 4533\n",
      "Data columns (total 24 columns):\n",
      " #   Column                        Non-Null Count  Dtype  \n",
      "---  ------                        --------------  -----  \n",
      " 0   Name                          4534 non-null   int64  \n",
      " 1   Epoch Date Close Approach     3280 non-null   float64\n",
      " 2   Relative Velocity km per sec  3184 non-null   object \n",
      " 3   Relative Velocity km per hr   3033 non-null   float64\n",
      " 4   Miles per hour                3668 non-null   float64\n",
      " 5   Miss Dist.(Astronomical)      3933 non-null   float64\n",
      " 6   Miss Dist.(lunar)             3417 non-null   float64\n",
      " 7   Miss Dist.(kilometers)        3166 non-null   float64\n",
      " 8   Miss Dist.(miles)             3882 non-null   float64\n",
      " 9   Jupiter Tisserand Invariant   2802 non-null   float64\n",
      " 10  Epoch Osculation              3007 non-null   float64\n",
      " 11  Semi Major Axis               3346 non-null   float64\n",
      " 12  Asc Node Longitude            3438 non-null   float64\n",
      " 13  Perihelion Arg                3400 non-null   float64\n",
      " 14  Aphelion Dist                 3719 non-null   float64\n",
      " 15  Perihelion Time               2970 non-null   float64\n",
      " 16  Mean Anomaly                  3616 non-null   float64\n",
      " 17  Mean Motion                   3026 non-null   float64\n",
      " 18  approach_year                 3715 non-null   float64\n",
      " 19  approach_month                3006 non-null   float64\n",
      " 20  approach_day                  3991 non-null   float64\n",
      " 21  Orbital Period                4004 non-null   object \n",
      " 22  Orbit Uncertainity            2767 non-null   object \n",
      " 23  Hazardous                     4534 non-null   bool   \n",
      "dtypes: bool(1), float64(19), int64(1), object(3)\n",
      "memory usage: 819.3+ KB\n"
     ]
    }
   ],
   "source": [
    "data.info()"
   ]
  },
  {
   "cell_type": "code",
   "execution_count": 5,
   "metadata": {},
   "outputs": [
    {
     "data": {
      "text/html": [
       "<div>\n",
       "<style scoped>\n",
       "    .dataframe tbody tr th:only-of-type {\n",
       "        vertical-align: middle;\n",
       "    }\n",
       "\n",
       "    .dataframe tbody tr th {\n",
       "        vertical-align: top;\n",
       "    }\n",
       "\n",
       "    .dataframe thead th {\n",
       "        text-align: right;\n",
       "    }\n",
       "</style>\n",
       "<table border=\"1\" class=\"dataframe\">\n",
       "  <thead>\n",
       "    <tr style=\"text-align: right;\">\n",
       "      <th></th>\n",
       "      <th>Name</th>\n",
       "      <th>Epoch Date Close Approach</th>\n",
       "      <th>Relative Velocity km per sec</th>\n",
       "      <th>Relative Velocity km per hr</th>\n",
       "      <th>Miles per hour</th>\n",
       "      <th>Miss Dist.(Astronomical)</th>\n",
       "      <th>Miss Dist.(lunar)</th>\n",
       "      <th>Miss Dist.(kilometers)</th>\n",
       "      <th>Miss Dist.(miles)</th>\n",
       "      <th>Jupiter Tisserand Invariant</th>\n",
       "      <th>...</th>\n",
       "      <th>Aphelion Dist</th>\n",
       "      <th>Perihelion Time</th>\n",
       "      <th>Mean Anomaly</th>\n",
       "      <th>Mean Motion</th>\n",
       "      <th>approach_year</th>\n",
       "      <th>approach_month</th>\n",
       "      <th>approach_day</th>\n",
       "      <th>Orbital Period</th>\n",
       "      <th>Orbit Uncertainity</th>\n",
       "      <th>Hazardous</th>\n",
       "    </tr>\n",
       "  </thead>\n",
       "  <tbody>\n",
       "    <tr>\n",
       "      <th>0</th>\n",
       "      <td>3703080</td>\n",
       "      <td>7.889472e+11</td>\n",
       "      <td>Very Slow</td>\n",
       "      <td>22017.003799</td>\n",
       "      <td>13680.509944</td>\n",
       "      <td>0.419483</td>\n",
       "      <td>163.178711</td>\n",
       "      <td>62753692.0</td>\n",
       "      <td>38993336.0</td>\n",
       "      <td>NaN</td>\n",
       "      <td>...</td>\n",
       "      <td>2.005764</td>\n",
       "      <td>NaN</td>\n",
       "      <td>264.837533</td>\n",
       "      <td>0.590551</td>\n",
       "      <td>NaN</td>\n",
       "      <td>1.0</td>\n",
       "      <td>1.0</td>\n",
       "      <td>Low</td>\n",
       "      <td>Medium</td>\n",
       "      <td>True</td>\n",
       "    </tr>\n",
       "    <tr>\n",
       "      <th>1</th>\n",
       "      <td>3723955</td>\n",
       "      <td>NaN</td>\n",
       "      <td>Slow</td>\n",
       "      <td>65210.346095</td>\n",
       "      <td>40519.173105</td>\n",
       "      <td>NaN</td>\n",
       "      <td>NaN</td>\n",
       "      <td>57298148.0</td>\n",
       "      <td>35603420.0</td>\n",
       "      <td>NaN</td>\n",
       "      <td>...</td>\n",
       "      <td>1.497352</td>\n",
       "      <td>2.457795e+06</td>\n",
       "      <td>173.741112</td>\n",
       "      <td>0.845330</td>\n",
       "      <td>1995.0</td>\n",
       "      <td>1.0</td>\n",
       "      <td>1.0</td>\n",
       "      <td>Low</td>\n",
       "      <td>NaN</td>\n",
       "      <td>False</td>\n",
       "    </tr>\n",
       "    <tr>\n",
       "      <th>2</th>\n",
       "      <td>2446862</td>\n",
       "      <td>7.895520e+11</td>\n",
       "      <td>NaN</td>\n",
       "      <td>27326.560182</td>\n",
       "      <td>16979.661798</td>\n",
       "      <td>0.050956</td>\n",
       "      <td>19.821890</td>\n",
       "      <td>7622911.5</td>\n",
       "      <td>4736657.5</td>\n",
       "      <td>4.557</td>\n",
       "      <td>...</td>\n",
       "      <td>1.966857</td>\n",
       "      <td>2.458120e+06</td>\n",
       "      <td>NaN</td>\n",
       "      <td>NaN</td>\n",
       "      <td>1995.0</td>\n",
       "      <td>NaN</td>\n",
       "      <td>8.0</td>\n",
       "      <td>Medium</td>\n",
       "      <td>NaN</td>\n",
       "      <td>True</td>\n",
       "    </tr>\n",
       "    <tr>\n",
       "      <th>3</th>\n",
       "      <td>3092506</td>\n",
       "      <td>7.901568e+11</td>\n",
       "      <td>Very Slow</td>\n",
       "      <td>40225.948191</td>\n",
       "      <td>24994.839864</td>\n",
       "      <td>NaN</td>\n",
       "      <td>NaN</td>\n",
       "      <td>NaN</td>\n",
       "      <td>26522368.0</td>\n",
       "      <td>5.093</td>\n",
       "      <td>...</td>\n",
       "      <td>1.527904</td>\n",
       "      <td>2.457902e+06</td>\n",
       "      <td>68.741007</td>\n",
       "      <td>0.700277</td>\n",
       "      <td>1995.0</td>\n",
       "      <td>NaN</td>\n",
       "      <td>15.0</td>\n",
       "      <td>Low</td>\n",
       "      <td>Medium</td>\n",
       "      <td>False</td>\n",
       "    </tr>\n",
       "    <tr>\n",
       "      <th>4</th>\n",
       "      <td>3514799</td>\n",
       "      <td>7.901568e+11</td>\n",
       "      <td>Very Slow</td>\n",
       "      <td>35426.991794</td>\n",
       "      <td>NaN</td>\n",
       "      <td>0.407832</td>\n",
       "      <td>158.646713</td>\n",
       "      <td>61010824.0</td>\n",
       "      <td>NaN</td>\n",
       "      <td>5.154</td>\n",
       "      <td>...</td>\n",
       "      <td>NaN</td>\n",
       "      <td>2.457814e+06</td>\n",
       "      <td>NaN</td>\n",
       "      <td>NaN</td>\n",
       "      <td>NaN</td>\n",
       "      <td>NaN</td>\n",
       "      <td>15.0</td>\n",
       "      <td>NaN</td>\n",
       "      <td>Low</td>\n",
       "      <td>True</td>\n",
       "    </tr>\n",
       "  </tbody>\n",
       "</table>\n",
       "<p>5 rows × 24 columns</p>\n",
       "</div>"
      ],
      "text/plain": [
       "      Name  Epoch Date Close Approach Relative Velocity km per sec  \\\n",
       "0  3703080               7.889472e+11                    Very Slow   \n",
       "1  3723955                        NaN                         Slow   \n",
       "2  2446862               7.895520e+11                          NaN   \n",
       "3  3092506               7.901568e+11                    Very Slow   \n",
       "4  3514799               7.901568e+11                    Very Slow   \n",
       "\n",
       "   Relative Velocity km per hr  Miles per hour  Miss Dist.(Astronomical)  \\\n",
       "0                 22017.003799    13680.509944                  0.419483   \n",
       "1                 65210.346095    40519.173105                       NaN   \n",
       "2                 27326.560182    16979.661798                  0.050956   \n",
       "3                 40225.948191    24994.839864                       NaN   \n",
       "4                 35426.991794             NaN                  0.407832   \n",
       "\n",
       "   Miss Dist.(lunar)  Miss Dist.(kilometers)  Miss Dist.(miles)  \\\n",
       "0         163.178711              62753692.0         38993336.0   \n",
       "1                NaN              57298148.0         35603420.0   \n",
       "2          19.821890               7622911.5          4736657.5   \n",
       "3                NaN                     NaN         26522368.0   \n",
       "4         158.646713              61010824.0                NaN   \n",
       "\n",
       "   Jupiter Tisserand Invariant  ...  Aphelion Dist  Perihelion Time  \\\n",
       "0                          NaN  ...       2.005764              NaN   \n",
       "1                          NaN  ...       1.497352     2.457795e+06   \n",
       "2                        4.557  ...       1.966857     2.458120e+06   \n",
       "3                        5.093  ...       1.527904     2.457902e+06   \n",
       "4                        5.154  ...            NaN     2.457814e+06   \n",
       "\n",
       "   Mean Anomaly  Mean Motion  approach_year  approach_month  approach_day  \\\n",
       "0    264.837533     0.590551            NaN             1.0           1.0   \n",
       "1    173.741112     0.845330         1995.0             1.0           1.0   \n",
       "2           NaN          NaN         1995.0             NaN           8.0   \n",
       "3     68.741007     0.700277         1995.0             NaN          15.0   \n",
       "4           NaN          NaN            NaN             NaN          15.0   \n",
       "\n",
       "   Orbital Period  Orbit Uncertainity  Hazardous  \n",
       "0             Low              Medium       True  \n",
       "1             Low                 NaN      False  \n",
       "2          Medium                 NaN       True  \n",
       "3             Low              Medium      False  \n",
       "4             NaN                 Low       True  \n",
       "\n",
       "[5 rows x 24 columns]"
      ]
     },
     "execution_count": 5,
     "metadata": {},
     "output_type": "execute_result"
    }
   ],
   "source": [
    "data.head()"
   ]
  },
  {
   "cell_type": "code",
   "execution_count": 6,
   "metadata": {},
   "outputs": [
    {
     "name": "stdout",
     "output_type": "stream",
     "text": [
      "\n",
      "Numerical columns: ['Name', 'Epoch Date Close Approach', 'Relative Velocity km per hr', 'Miles per hour', 'Miss Dist.(Astronomical)', 'Miss Dist.(lunar)', 'Miss Dist.(kilometers)', 'Miss Dist.(miles)', 'Jupiter Tisserand Invariant', 'Epoch Osculation', 'Semi Major Axis', 'Asc Node Longitude', 'Perihelion Arg', 'Aphelion Dist', 'Perihelion Time', 'Mean Anomaly', 'Mean Motion', 'approach_year', 'approach_month', 'approach_day']\n",
      "Categorical columns: ['Relative Velocity km per sec', 'Orbital Period', 'Orbit Uncertainity']\n"
     ]
    }
   ],
   "source": [
    "# Categorize columns as numerical or categorical\n",
    "numerical_cols = data.select_dtypes(include=['number']).columns.tolist()\n",
    "categorical_cols = data.select_dtypes(include=['object', 'category']).columns.tolist()\n",
    "\n",
    "print(\"\\nNumerical columns:\", numerical_cols)\n",
    "print(\"Categorical columns:\", categorical_cols)"
   ]
  },
  {
   "cell_type": "code",
   "execution_count": 7,
   "metadata": {},
   "outputs": [
    {
     "data": {
      "text/plain": [
       "Name                               0\n",
       "Epoch Date Close Approach       1254\n",
       "Relative Velocity km per sec    1350\n",
       "Relative Velocity km per hr     1501\n",
       "Miles per hour                   866\n",
       "Miss Dist.(Astronomical)         601\n",
       "Miss Dist.(lunar)               1117\n",
       "Miss Dist.(kilometers)          1368\n",
       "Miss Dist.(miles)                652\n",
       "Jupiter Tisserand Invariant     1732\n",
       "Epoch Osculation                1527\n",
       "Semi Major Axis                 1188\n",
       "Asc Node Longitude              1096\n",
       "Perihelion Arg                  1134\n",
       "Aphelion Dist                    815\n",
       "Perihelion Time                 1564\n",
       "Mean Anomaly                     918\n",
       "Mean Motion                     1508\n",
       "approach_year                    819\n",
       "approach_month                  1528\n",
       "approach_day                     543\n",
       "Orbital Period                   530\n",
       "Orbit Uncertainity              1767\n",
       "Hazardous                          0\n",
       "dtype: int64"
      ]
     },
     "execution_count": 7,
     "metadata": {},
     "output_type": "execute_result"
    }
   ],
   "source": [
    "# Missing Values\n",
    "data.isnull().sum()"
   ]
  },
  {
   "cell_type": "code",
   "execution_count": 8,
   "metadata": {},
   "outputs": [
    {
     "name": "stdout",
     "output_type": "stream",
     "text": [
      "Total misiing values : 25378\n"
     ]
    }
   ],
   "source": [
    "#Total Null values\n",
    "Misiing_values=data.isnull().sum().sum()\n",
    "print(\"Total misiing values :\",Misiing_values)"
   ]
  },
  {
   "cell_type": "code",
   "execution_count": 9,
   "metadata": {},
   "outputs": [
    {
     "name": "stdout",
     "output_type": "stream",
     "text": [
      "\n",
      "Unique values in 'Relative Velocity km per sec': ['Very Slow' 'Slow' nan 'Fast' 'Very Fast']\n",
      "\n",
      "Unique values in 'Orbital Period': ['Low' 'Medium' nan 'High']\n",
      "\n",
      "Unique values in 'Orbit Uncertainity': ['Medium' nan 'Low' 'High']\n"
     ]
    }
   ],
   "source": [
    "# Type of values in categorical columns\n",
    "for col in categorical_cols:\n",
    "    if len(data[col].unique()) <= 10: \n",
    "        print(f\"\\nUnique values in '{col}':\", data[col].unique())"
   ]
  },
  {
   "cell_type": "code",
   "execution_count": 10,
   "metadata": {},
   "outputs": [
    {
     "name": "stdout",
     "output_type": "stream",
     "text": [
      "\n",
      "Correlation matrix for numerical columns:\n",
      "                                 Name  Epoch Date Close Approach  \\\n",
      "Name                         1.000000                   0.188469   \n",
      "Epoch Date Close Approach    0.188469                   1.000000   \n",
      "Relative Velocity km per hr -0.173408                  -0.087520   \n",
      "Miles per hour              -0.172888                  -0.083833   \n",
      "Miss Dist.(Astronomical)    -0.155269                  -0.139330   \n",
      "Miss Dist.(lunar)           -0.140484                  -0.142746   \n",
      "Miss Dist.(kilometers)      -0.142508                  -0.145067   \n",
      "Miss Dist.(miles)           -0.153537                  -0.147898   \n",
      "Jupiter Tisserand Invariant  0.005657                  -0.143766   \n",
      "Epoch Osculation             0.001506                  -0.032676   \n",
      "Semi Major Axis              0.022772                   0.114847   \n",
      "Asc Node Longitude          -0.007010                  -0.000859   \n",
      "Perihelion Arg              -0.004971                   0.004541   \n",
      "Aphelion Dist               -0.009250                   0.088829   \n",
      "Perihelion Time              0.008676                  -0.019194   \n",
      "Mean Anomaly                -0.057653                  -0.024565   \n",
      "Mean Motion                  0.005964                  -0.117038   \n",
      "approach_year                0.184899                   0.998949   \n",
      "approach_month               0.002881                  -0.005529   \n",
      "approach_day                -0.017190                   0.012424   \n",
      "\n",
      "                             Relative Velocity km per hr  Miles per hour  \\\n",
      "Name                                           -0.173408       -0.172888   \n",
      "Epoch Date Close Approach                      -0.087520       -0.083833   \n",
      "Relative Velocity km per hr                     1.000000        1.000000   \n",
      "Miles per hour                                  1.000000        1.000000   \n",
      "Miss Dist.(Astronomical)                        0.365195        0.356269   \n",
      "Miss Dist.(lunar)                               0.368672        0.349630   \n",
      "Miss Dist.(kilometers)                          0.363078        0.358885   \n",
      "Miss Dist.(miles)                               0.368494        0.357170   \n",
      "Jupiter Tisserand Invariant                     0.016443       -0.040494   \n",
      "Epoch Osculation                                0.020308        0.023051   \n",
      "Semi Major Axis                                 0.004422        0.034654   \n",
      "Asc Node Longitude                             -0.001694       -0.025196   \n",
      "Perihelion Arg                                  0.003347       -0.007756   \n",
      "Aphelion Dist                                   0.150425        0.171363   \n",
      "Perihelion Time                                 0.015253        0.019736   \n",
      "Mean Anomaly                                   -0.008316        0.026312   \n",
      "Mean Motion                                     0.043528        0.024361   \n",
      "approach_year                                  -0.106693       -0.116329   \n",
      "approach_month                                 -0.038175       -0.029639   \n",
      "approach_day                                    0.002289        0.016869   \n",
      "\n",
      "                             Miss Dist.(Astronomical)  Miss Dist.(lunar)  \\\n",
      "Name                                        -0.155269          -0.140484   \n",
      "Epoch Date Close Approach                   -0.139330          -0.142746   \n",
      "Relative Velocity km per hr                  0.365195           0.368672   \n",
      "Miles per hour                               0.356269           0.349630   \n",
      "Miss Dist.(Astronomical)                     1.000000           1.000000   \n",
      "Miss Dist.(lunar)                            1.000000           1.000000   \n",
      "Miss Dist.(kilometers)                       1.000000           1.000000   \n",
      "Miss Dist.(miles)                            1.000000           1.000000   \n",
      "Jupiter Tisserand Invariant                  0.078476           0.093878   \n",
      "Epoch Osculation                             0.193133           0.200357   \n",
      "Semi Major Axis                             -0.115192          -0.140759   \n",
      "Asc Node Longitude                          -0.045539          -0.043886   \n",
      "Perihelion Arg                              -0.021702          -0.028780   \n",
      "Aphelion Dist                               -0.101344          -0.134157   \n",
      "Perihelion Time                              0.154090           0.159208   \n",
      "Mean Anomaly                                -0.013452          -0.019336   \n",
      "Mean Motion                                  0.090495           0.114384   \n",
      "approach_year                               -0.129644          -0.142295   \n",
      "approach_month                               0.004389           0.018341   \n",
      "approach_day                                 0.001533          -0.022491   \n",
      "\n",
      "                             Miss Dist.(kilometers)  Miss Dist.(miles)  \\\n",
      "Name                                      -0.142508          -0.153537   \n",
      "Epoch Date Close Approach                 -0.145067          -0.147898   \n",
      "Relative Velocity km per hr                0.363078           0.368494   \n",
      "Miles per hour                             0.358885           0.357170   \n",
      "Miss Dist.(Astronomical)                   1.000000           1.000000   \n",
      "Miss Dist.(lunar)                          1.000000           1.000000   \n",
      "Miss Dist.(kilometers)                     1.000000           1.000000   \n",
      "Miss Dist.(miles)                          1.000000           1.000000   \n",
      "Jupiter Tisserand Invariant                0.090901           0.098983   \n",
      "Epoch Osculation                           0.209049           0.197934   \n",
      "Semi Major Axis                           -0.119344          -0.119420   \n",
      "Asc Node Longitude                        -0.030349          -0.030159   \n",
      "Perihelion Arg                            -0.040933          -0.029366   \n",
      "Aphelion Dist                             -0.123879          -0.116647   \n",
      "Perihelion Time                            0.153554           0.154793   \n",
      "Mean Anomaly                              -0.021285          -0.003782   \n",
      "Mean Motion                                0.109776           0.109233   \n",
      "approach_year                             -0.139789          -0.152767   \n",
      "approach_month                             0.003318           0.000250   \n",
      "approach_day                               0.007094          -0.005422   \n",
      "\n",
      "                             Jupiter Tisserand Invariant  Epoch Osculation  \\\n",
      "Name                                            0.005657          0.001506   \n",
      "Epoch Date Close Approach                      -0.143766         -0.032676   \n",
      "Relative Velocity km per hr                     0.016443          0.020308   \n",
      "Miles per hour                                 -0.040494          0.023051   \n",
      "Miss Dist.(Astronomical)                        0.078476          0.193133   \n",
      "Miss Dist.(lunar)                               0.093878          0.200357   \n",
      "Miss Dist.(kilometers)                          0.090901          0.209049   \n",
      "Miss Dist.(miles)                               0.098983          0.197934   \n",
      "Jupiter Tisserand Invariant                     1.000000          0.025745   \n",
      "Epoch Osculation                                0.025745          1.000000   \n",
      "Semi Major Axis                                -0.943446         -0.055125   \n",
      "Asc Node Longitude                              0.005814          0.031863   \n",
      "Perihelion Arg                                  0.076101          0.002525   \n",
      "Aphelion Dist                                  -0.891164         -0.077613   \n",
      "Perihelion Time                                 0.016885          0.980479   \n",
      "Mean Anomaly                                    0.027958          0.003729   \n",
      "Mean Motion                                     0.992761          0.031497   \n",
      "approach_year                                  -0.146387         -0.009894   \n",
      "approach_month                                 -0.009715          0.007980   \n",
      "approach_day                                   -0.016380          0.004970   \n",
      "\n",
      "                             Semi Major Axis  Asc Node Longitude  \\\n",
      "Name                                0.022772           -0.007010   \n",
      "Epoch Date Close Approach           0.114847           -0.000859   \n",
      "Relative Velocity km per hr         0.004422           -0.001694   \n",
      "Miles per hour                      0.034654           -0.025196   \n",
      "Miss Dist.(Astronomical)           -0.115192           -0.045539   \n",
      "Miss Dist.(lunar)                  -0.140759           -0.043886   \n",
      "Miss Dist.(kilometers)             -0.119344           -0.030349   \n",
      "Miss Dist.(miles)                  -0.119420           -0.030159   \n",
      "Jupiter Tisserand Invariant        -0.943446            0.005814   \n",
      "Epoch Osculation                   -0.055125            0.031863   \n",
      "Semi Major Axis                     1.000000           -0.011980   \n",
      "Asc Node Longitude                 -0.011980            1.000000   \n",
      "Perihelion Arg                     -0.055950           -0.038114   \n",
      "Aphelion Dist                       0.968735           -0.017153   \n",
      "Perihelion Time                    -0.033060            0.020461   \n",
      "Mean Anomaly                       -0.040268            0.021133   \n",
      "Mean Motion                        -0.921079            0.015232   \n",
      "approach_year                       0.130589            0.009230   \n",
      "approach_month                      0.027220           -0.081131   \n",
      "approach_day                        0.005531           -0.010541   \n",
      "\n",
      "                             Perihelion Arg  Aphelion Dist  Perihelion Time  \\\n",
      "Name                              -0.004971      -0.009250         0.008676   \n",
      "Epoch Date Close Approach          0.004541       0.088829        -0.019194   \n",
      "Relative Velocity km per hr        0.003347       0.150425         0.015253   \n",
      "Miles per hour                    -0.007756       0.171363         0.019736   \n",
      "Miss Dist.(Astronomical)          -0.021702      -0.101344         0.154090   \n",
      "Miss Dist.(lunar)                 -0.028780      -0.134157         0.159208   \n",
      "Miss Dist.(kilometers)            -0.040933      -0.123879         0.153554   \n",
      "Miss Dist.(miles)                 -0.029366      -0.116647         0.154793   \n",
      "Jupiter Tisserand Invariant        0.076101      -0.891164         0.016885   \n",
      "Epoch Osculation                   0.002525      -0.077613         0.980479   \n",
      "Semi Major Axis                   -0.055950       0.968735        -0.033060   \n",
      "Asc Node Longitude                -0.038114      -0.017153         0.020461   \n",
      "Perihelion Arg                     1.000000      -0.051832        -0.029881   \n",
      "Aphelion Dist                     -0.051832       1.000000        -0.054459   \n",
      "Perihelion Time                   -0.029881      -0.054459         1.000000   \n",
      "Mean Anomaly                      -0.036290      -0.021579         0.109404   \n",
      "Mean Motion                        0.066715      -0.846892         0.019432   \n",
      "approach_year                      0.009210       0.104657        -0.000546   \n",
      "approach_month                     0.008984       0.025484         0.016525   \n",
      "approach_day                       0.006453       0.013074        -0.024550   \n",
      "\n",
      "                             Mean Anomaly  Mean Motion  approach_year  \\\n",
      "Name                            -0.057653     0.005964       0.184899   \n",
      "Epoch Date Close Approach       -0.024565    -0.117038       0.998949   \n",
      "Relative Velocity km per hr     -0.008316     0.043528      -0.106693   \n",
      "Miles per hour                   0.026312     0.024361      -0.116329   \n",
      "Miss Dist.(Astronomical)        -0.013452     0.090495      -0.129644   \n",
      "Miss Dist.(lunar)               -0.019336     0.114384      -0.142295   \n",
      "Miss Dist.(kilometers)          -0.021285     0.109776      -0.139789   \n",
      "Miss Dist.(miles)               -0.003782     0.109233      -0.152767   \n",
      "Jupiter Tisserand Invariant      0.027958     0.992761      -0.146387   \n",
      "Epoch Osculation                 0.003729     0.031497      -0.009894   \n",
      "Semi Major Axis                 -0.040268    -0.921079       0.130589   \n",
      "Asc Node Longitude               0.021133     0.015232       0.009230   \n",
      "Perihelion Arg                  -0.036290     0.066715       0.009210   \n",
      "Aphelion Dist                   -0.021579    -0.846892       0.104657   \n",
      "Perihelion Time                  0.109404     0.019432      -0.000546   \n",
      "Mean Anomaly                     1.000000     0.045393      -0.020001   \n",
      "Mean Motion                      0.045393     1.000000      -0.120322   \n",
      "approach_year                   -0.020001    -0.120322       1.000000   \n",
      "approach_month                  -0.004733     0.009178      -0.048130   \n",
      "approach_day                    -0.009615     0.003557      -0.010320   \n",
      "\n",
      "                             approach_month  approach_day  \n",
      "Name                               0.002881     -0.017190  \n",
      "Epoch Date Close Approach         -0.005529      0.012424  \n",
      "Relative Velocity km per hr       -0.038175      0.002289  \n",
      "Miles per hour                    -0.029639      0.016869  \n",
      "Miss Dist.(Astronomical)           0.004389      0.001533  \n",
      "Miss Dist.(lunar)                  0.018341     -0.022491  \n",
      "Miss Dist.(kilometers)             0.003318      0.007094  \n",
      "Miss Dist.(miles)                  0.000250     -0.005422  \n",
      "Jupiter Tisserand Invariant       -0.009715     -0.016380  \n",
      "Epoch Osculation                   0.007980      0.004970  \n",
      "Semi Major Axis                    0.027220      0.005531  \n",
      "Asc Node Longitude                -0.081131     -0.010541  \n",
      "Perihelion Arg                     0.008984      0.006453  \n",
      "Aphelion Dist                      0.025484      0.013074  \n",
      "Perihelion Time                    0.016525     -0.024550  \n",
      "Mean Anomaly                      -0.004733     -0.009615  \n",
      "Mean Motion                        0.009178      0.003557  \n",
      "approach_year                     -0.048130     -0.010320  \n",
      "approach_month                     1.000000     -0.027888  \n",
      "approach_day                      -0.027888      1.000000  \n"
     ]
    }
   ],
   "source": [
    "# Correlation matrix for numerical columns\n",
    "print(\"\\nCorrelation matrix for numerical columns:\")\n",
    "print(data[numerical_cols].corr())"
   ]
  },
  {
   "cell_type": "code",
   "execution_count": 11,
   "metadata": {},
   "outputs": [],
   "source": [
    "# Impute missing values using KNN imputation\n",
    "numerical_cols = data.select_dtypes(include=['number']).columns.tolist()\n",
    "categorical_cols = data.select_dtypes(include=['object', 'category', 'bool']).columns.tolist()"
   ]
  },
  {
   "cell_type": "code",
   "execution_count": 12,
   "metadata": {},
   "outputs": [],
   "source": [
    "# Scale numerical features (important for KNN)\n",
    "scaler = StandardScaler()\n",
    "data[numerical_cols] = scaler.fit_transform(data[numerical_cols])"
   ]
  },
  {
   "cell_type": "code",
   "execution_count": 13,
   "metadata": {},
   "outputs": [],
   "source": [
    "# Scale numerical features (important for KNN)\n",
    "scaler = StandardScaler()\n",
    "data[numerical_cols] = scaler.fit_transform(data[numerical_cols])"
   ]
  },
  {
   "cell_type": "code",
   "execution_count": 14,
   "metadata": {},
   "outputs": [],
   "source": [
    "# Create a KNN imputer object \n",
    "imputer = KNNImputer(n_neighbors=10)"
   ]
  },
  {
   "cell_type": "code",
   "execution_count": 15,
   "metadata": {},
   "outputs": [],
   "source": [
    "# Impute missing values for numerical columns\n",
    "data[numerical_cols] = imputer.fit_transform(data[numerical_cols])"
   ]
  },
  {
   "cell_type": "code",
   "execution_count": 16,
   "metadata": {},
   "outputs": [],
   "source": [
    "# Impute missing values for categorical columns (using KNN for categorical features is less common)\n",
    "for col in categorical_cols:\n",
    "    if data[col].isnull().any():\n",
    "        mapping = {category: i for i, category in enumerate(data[col].unique())}\n",
    "        data[col] = data[col].map(mapping)\n",
    "        data[col] = imputer.fit_transform(data[col].values.reshape(-1, 1))\n",
    "        reverse_mapping = {i: category for category, i in mapping.items()}\n",
    "        data[col] = data[col].map(reverse_mapping)"
   ]
  },
  {
   "cell_type": "code",
   "execution_count": 17,
   "metadata": {},
   "outputs": [],
   "source": [
    "# Inverse transform numerical features to get the original scale\n",
    "data[numerical_cols] = scaler.inverse_transform(data[numerical_cols])"
   ]
  },
  {
   "cell_type": "code",
   "execution_count": 18,
   "metadata": {},
   "outputs": [],
   "source": [
    "# Apply floor function to 'approach_year', 'approach_month', and 'approach_day'\n",
    "data['approach_year'] = data['approach_year'].apply(np.floor).astype(int)\n",
    "data['approach_month'] = data['approach_month'].apply(np.floor).astype(int)\n",
    "data['approach_day'] = data['approach_day'].apply(np.floor).astype(int)"
   ]
  },
  {
   "cell_type": "code",
   "execution_count": 19,
   "metadata": {},
   "outputs": [],
   "source": [
    "# Calculate statistics for \"Relative Velocity km per hr\"\n",
    "min_velocity = data['Relative Velocity km per hr'].min()\n",
    "max_velocity = data['Relative Velocity km per hr'].max()\n",
    "mean_velocity = data['Relative Velocity km per hr'].mean()\n",
    "std_velocity = data['Relative Velocity km per hr'].std()"
   ]
  },
  {
   "cell_type": "code",
   "execution_count": 20,
   "metadata": {},
   "outputs": [],
   "source": [
    "# Define bins based on statistics\n",
    "bins = [min_velocity, \n",
    "        mean_velocity - std_velocity, \n",
    "        mean_velocity, \n",
    "        mean_velocity + std_velocity, \n",
    "        max_velocity]\n",
    "labels = ['Very Slow', 'Slow', 'Medium', 'Fast']"
   ]
  },
  {
   "cell_type": "code",
   "execution_count": 21,
   "metadata": {},
   "outputs": [
    {
     "name": "stderr",
     "output_type": "stream",
     "text": [
      "C:\\Users\\chand\\AppData\\Local\\Temp\\ipykernel_27772\\295813936.py:5: FutureWarning: A value is trying to be set on a copy of a DataFrame or Series through chained assignment using an inplace method.\n",
      "The behavior will change in pandas 3.0. This inplace method will never work because the intermediate object on which we are setting values always behaves as a copy.\n",
      "\n",
      "For example, when doing 'df[col].method(value, inplace=True)', try using 'df.method({col: value}, inplace=True)' or df[col] = df[col].method(value) instead, to perform the operation inplace on the original object.\n",
      "\n",
      "\n",
      "  data['Relative Velocity km per sec'].fillna(data['binned_velocity'], inplace=True)\n"
     ]
    }
   ],
   "source": [
    "# Create a new column with binned velocity categories\n",
    "data['binned_velocity'] = pd.cut(data['Relative Velocity km per hr'], bins=bins, labels=labels, include_lowest=True)\n",
    "\n",
    "# Impute missing values in \"Relative Velocity km per sec\" using the binned categories\n",
    "data['Relative Velocity km per sec'].fillna(data['binned_velocity'], inplace=True)\n",
    "\n",
    "# Drop the temporary \"binned_velocity\" column\n",
    "data.drop('binned_velocity', axis=1, inplace=True)\n"
   ]
  },
  {
   "cell_type": "code",
   "execution_count": 22,
   "metadata": {},
   "outputs": [
    {
     "name": "stdout",
     "output_type": "stream",
     "text": [
      "Bins for 'Relative Velocity km per hr':\n",
      "- Very Slow: [-1.86, -0.91)\n",
      "- Slow: [-0.91, -0.03)\n",
      "- Medium: [-0.03, 0.84)\n",
      "- Fast: [0.84, 4.15)\n"
     ]
    }
   ],
   "source": [
    "# Print the bins and labels being used\n",
    "print(\"Bins for 'Relative Velocity km per hr':\")\n",
    "for i in range(len(bins) - 1):\n",
    "    print(f\"- {labels[i]}: [{bins[i]:.2f}, {bins[i+1]:.2f})\")"
   ]
  },
  {
   "cell_type": "code",
   "execution_count": 23,
   "metadata": {},
   "outputs": [
    {
     "name": "stdout",
     "output_type": "stream",
     "text": [
      "\n",
      "'Relative Velocity km per sec' column after imputation:\n",
      "0       Very Slow\n",
      "1            Slow\n",
      "2            Slow\n",
      "3       Very Slow\n",
      "4       Very Slow\n",
      "          ...    \n",
      "4529         Slow\n",
      "4530    Very Slow\n",
      "4531    Very Slow\n",
      "4532         Slow\n",
      "4533    Very Fast\n",
      "Name: Relative Velocity km per sec, Length: 4534, dtype: object\n"
     ]
    }
   ],
   "source": [
    "# Print the \"Relative Velocity km per sec\" column after imputation\n",
    "print(\"\\n'Relative Velocity km per sec' column after imputation:\")\n",
    "print(data['Relative Velocity km per sec'])"
   ]
  },
  {
   "cell_type": "code",
   "execution_count": 24,
   "metadata": {},
   "outputs": [],
   "source": [
    "# Filling missing values in 'Orbital Period' and 'Orbit Uncertainty' with random categories\n",
    "categories = ['Low', 'Medium', 'High']\n",
    "data['Orbital Period'] = data['Orbital Period'].apply(lambda x: random.choice(categories) if pd.isnull(x) else x)\n",
    "data['Orbit Uncertainity'] = data['Orbit Uncertainity'].apply(lambda x: random.choice(categories) if pd.isnull(x) else x)"
   ]
  },
  {
   "cell_type": "code",
   "execution_count": 25,
   "metadata": {},
   "outputs": [
    {
     "name": "stderr",
     "output_type": "stream",
     "text": [
      "Encoding columns: 100%|██████████| 3/3 [00:00<00:00, 996.19it/s]\n"
     ]
    }
   ],
   "source": [
    "data = pd.read_csv('Preprocessed_dataset.csv')\n",
    "\n",
    "# Convert non-numeric columns to numeric using LabelEncoder\n",
    "label_encoders = {}\n",
    "for column in tqdm(data.select_dtypes(include=['object']).columns, desc=\"Encoding columns\"):\n",
    "    le = LabelEncoder()\n",
    "    data[column] = le.fit_transform(data[column])\n",
    "    label_encoders[column] = le\n",
    "\n",
    "# Separate the features and the target variable\n",
    "X = data.drop('Hazardous', axis=1)\n",
    "y = data['Hazardous']\n"
   ]
  },
  {
   "cell_type": "markdown",
   "metadata": {},
   "source": [
    "Test and Train Split"
   ]
  },
  {
   "cell_type": "code",
   "execution_count": 34,
   "metadata": {},
   "outputs": [],
   "source": [
    "# Split the data into training and testing sets\n",
    "X_train, X_test, y_train, y_test = train_test_split(X, y, test_size=0.2, random_state=42)"
   ]
  },
  {
   "cell_type": "code",
   "execution_count": 45,
   "metadata": {},
   "outputs": [],
   "source": [
    "# Create ensemble models\n",
    "rf_clf = RandomForestClassifier(n_estimators=100, random_state=42,criterion='gini', max_depth=100, min_samples_split=3, min_samples_leaf=3, min_weight_fraction_leaf=0.0, max_features='sqrt', max_leaf_nodes=None, min_impurity_decrease=0.0, bootstrap=True, oob_score=False, n_jobs=None, verbose=0, warm_start=False, class_weight=None, ccp_alpha=0.0, max_samples=None, monotonic_cst=None)\n",
    "gb_clf = GradientBoostingClassifier(n_estimators=100, random_state=42,learning_rate=0.1)\n"
   ]
  },
  {
   "cell_type": "code",
   "execution_count": 46,
   "metadata": {},
   "outputs": [],
   "source": [
    "# Create a VotingClassifier ensemble model\n",
    "ensemble_clf = VotingClassifier(estimators=[('rf', rf_clf), ('gb', gb_clf)], voting='hard')"
   ]
  },
  {
   "cell_type": "code",
   "execution_count": 47,
   "metadata": {},
   "outputs": [
    {
     "name": "stderr",
     "output_type": "stream",
     "text": [
      "Training progress: 100%|██████████| 100/100 [00:01<00:00, 96.13it/s]\n"
     ]
    },
    {
     "name": "stdout",
     "output_type": "stream",
     "text": [
      "Accuracy of the ensemble model: 0.86\n"
     ]
    }
   ],
   "source": [
    "# Train the ensemble model\n",
    "for _ in tqdm(range(100), desc=\"Training progress\"):\n",
    "    time.sleep(0.01)\n",
    "ensemble_clf.fit(X_train, y_train)\n",
    "\n",
    "# Make predictions on the testing set\n",
    "y_pred = ensemble_clf.predict(X_test)\n",
    "\n",
    "# Calculate the accuracy\n",
    "accuracy = accuracy_score(y_test, y_pred)\n",
    "print(f'Accuracy of the ensemble model: {accuracy:.2f}')"
   ]
  }
 ],
 "metadata": {
  "kernelspec": {
   "display_name": "Python 3",
   "language": "python",
   "name": "python3"
  },
  "language_info": {
   "codemirror_mode": {
    "name": "ipython",
    "version": 3
   },
   "file_extension": ".py",
   "mimetype": "text/x-python",
   "name": "python",
   "nbconvert_exporter": "python",
   "pygments_lexer": "ipython3",
   "version": "3.11.9"
  }
 },
 "nbformat": 4,
 "nbformat_minor": 2
}
